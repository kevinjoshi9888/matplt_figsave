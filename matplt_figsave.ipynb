{
 "cells": [
  {
   "cell_type": "code",
   "execution_count": 1,
   "id": "fe321419-18d2-4e3a-af5b-74e0598e7ca1",
   "metadata": {},
   "outputs": [],
   "source": [
    "from matplotlib import pyplot as plt"
   ]
  },
  {
   "cell_type": "code",
   "execution_count": 2,
   "id": "fbf76909-c5bb-4eed-a008-8130fb4237ae",
   "metadata": {},
   "outputs": [],
   "source": [
    "hour_day = range(0,23)\n",
    "temp_day = [1, 1.1, 1.5, 1.9, 2.5, 3, 3.4, 3.7, 3.9, 4.2, 4.5, 4.8, 5.2, 5.5, 5.9, 6.3, 6.6, 6.9, 7.2, 7.7, 8.8, 9, 9.5]"
   ]
  },
  {
   "cell_type": "code",
   "execution_count": 26,
   "id": "152fdbc6-87c3-417c-9f0c-400035225185",
   "metadata": {},
   "outputs": [
    {
     "data": {
      "image/png": "[encoded data removed]",
      "text/plain": [
       "<Figure size 288x216 with 1 Axes>"
      ]
     },
     "metadata": {
      "needs_background": "light"
     },
     "output_type": "display_data"
    }
   ],
   "source": [
    "plt.figure(figsize = [4,3], layout = \"tight\")\n",
    "plt.bar(hour_day,temp_day)\n",
    "plt.xlabel('Hour')\n",
    "plt.ylabel('Temperature')\n",
    "plt.savefig(\"fig.pdf\", format = \"pdf\")"
   ]
  },
  {
   "cell_type": "code",
   "execution_count": null,
   "id": "3a36aac9-cf25-46c8-982e-cf1a7bb6dfd8",
   "metadata": {},
   "outputs": [],
   "source": []
  },
  {
   "cell_type": "code",
   "execution_count": null,
   "id": "2dd46dc4-47f9-44bc-aa1b-daafa4dc404b",
   "metadata": {},
   "outputs": [],
   "source": []
  }
 ],
 "metadata": {
  "kernelspec": {
   "display_name": "Python 3 (ipykernel)",
   "language": "python",
   "name": "python3"
  },
  "language_info": {
   "codemirror_mode": {
    "name": "ipython",
    "version": 3
   },
   "file_extension": ".py",
   "mimetype": "text/x-python",
   "name": "python",
   "nbconvert_exporter": "python",
   "pygments_lexer": "ipython3",
   "version": "3.9.12"
  }
 },
 "nbformat": 4,
 "nbformat_minor": 5
}
